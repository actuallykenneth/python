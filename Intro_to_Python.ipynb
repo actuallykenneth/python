{
 "cells": [
  {
   "cell_type": "markdown",
   "metadata": {},
   "source": [
    "# Overview of Python"
   ]
  },
  {
   "cell_type": "markdown",
   "metadata": {},
   "source": [
    "### Input and Output (IO)"
   ]
  },
  {
   "cell_type": "markdown",
   "metadata": {},
   "source": [
    "## The Three Pillars of Programming\n",
    "1. IO\n",
    "2. Iteration\n",
    "3. Control Structures"
   ]
  },
  {
   "cell_type": "markdown",
   "metadata": {},
   "source": [
    "# 1. IO\n",
    "## Output is easy af."
   ]
  },
  {
   "cell_type": "code",
   "execution_count": 15,
   "metadata": {
    "ExecuteTime": {
     "end_time": "2019-03-05T21:35:08.631262Z",
     "start_time": "2019-03-05T21:35:08.628796Z"
    }
   },
   "outputs": [
    {
     "name": "stdout",
     "output_type": "stream",
     "text": [
      "Hello world!\n"
     ]
    }
   ],
   "source": [
    "print(\"Hello world!\")"
   ]
  },
  {
   "cell_type": "code",
   "execution_count": 3,
   "metadata": {
    "ExecuteTime": {
     "end_time": "2019-03-05T21:27:38.332682Z",
     "start_time": "2019-03-05T21:27:38.329749Z"
    }
   },
   "outputs": [
    {
     "name": "stdout",
     "output_type": "stream",
     "text": [
      "I went to the park.\n"
     ]
    }
   ],
   "source": [
    "# And the print function has a bunch of cool shit in it.\n",
    "# For example, comma separated values\n",
    "print(\"I\",\"went\",\"to\",\"the\",\"park.\")"
   ]
  },
  {
   "cell_type": "markdown",
   "metadata": {},
   "source": [
    "## Contrast that with System.out.println(\"I \" + \"went \" + \"to \" + \"the \" + \"park.\");\n"
   ]
  },
  {
   "cell_type": "code",
   "execution_count": 26,
   "metadata": {
    "ExecuteTime": {
     "end_time": "2019-03-05T21:44:49.922581Z",
     "start_time": "2019-03-05T21:44:49.919483Z"
    }
   },
   "outputs": [
    {
     "name": "stdout",
     "output_type": "stream",
     "text": [
      "I-=KRAKEN!=-went-=KRAKEN!=-to-=KRAKEN!=-the-=KRAKEN!=-park.\n"
     ]
    }
   ],
   "source": [
    "# If a delimiter argument is not specified, it defaults to inserting a space between the values as seen above.\n",
    "# But you can specify one as well. Same line as above, but instead of a space we have...the kraken.\n",
    "print(\"I\",\"went\",\"to\",\"the\",\"park.\", sep=\"-=KRAKEN!=-\")"
   ]
  },
  {
   "cell_type": "code",
   "execution_count": 27,
   "metadata": {
    "ExecuteTime": {
     "end_time": "2019-03-05T21:44:55.946477Z",
     "start_time": "2019-03-05T21:44:55.943302Z"
    }
   },
   "outputs": [
    {
     "name": "stdout",
     "output_type": "stream",
     "text": [
      "I went to the park with Abdullah\n",
      "Three plus three is 6.\n"
     ]
    }
   ],
   "source": [
    "# Variable substition is easy as pie.\n",
    "\n",
    "fav_person = \"Abdullah\"  # just assign a string to a variable\n",
    "print(f\"I went to the park with {fav_person}\")  # Note the \"f\" before the string.\n",
    "print(f\"Three plus three is {3+3}.\")  # You can even insert code to calculate within the brackets"
   ]
  },
  {
   "cell_type": "markdown",
   "metadata": {},
   "source": [
    "## Input is also easy af."
   ]
  },
  {
   "cell_type": "code",
   "execution_count": 22,
   "metadata": {
    "ExecuteTime": {
     "end_time": "2019-03-05T21:43:55.006928Z",
     "start_time": "2019-03-05T21:43:52.030726Z"
    }
   },
   "outputs": [
    {
     "name": "stdout",
     "output_type": "stream",
     "text": [
      "Who is your favorite person? --> Ophelia Immortal\n",
      "Your favorite person is Ophelia Immortal\n"
     ]
    }
   ],
   "source": [
    "fav_person = input(\"Who is your favorite person? --> \")\n",
    "print(\"Your favorite person is\", fav_person)"
   ]
  },
  {
   "cell_type": "markdown",
   "metadata": {},
   "source": [
    "# 2. Iteration"
   ]
  },
  {
   "cell_type": "markdown",
   "metadata": {},
   "source": [
    "## Iteration is...easy af.\n",
    "The strangest thing is that there are no typical for loops of the for(i=0; i < c; i++) style in python.\n",
    "If you're using other languages to reckon the loops in python by, the closest analog would be\n",
    "the \"for each\" loop or \"enhanced for\" loop"
   ]
  },
  {
   "cell_type": "code",
   "execution_count": 29,
   "metadata": {
    "ExecuteTime": {
     "end_time": "2019-03-05T21:51:46.747959Z",
     "start_time": "2019-03-05T21:51:46.744989Z"
    }
   },
   "outputs": [
    {
     "name": "stdout",
     "output_type": "stream",
     "text": [
      "0\n",
      "1\n",
      "2\n",
      "3\n",
      "4\n"
     ]
    }
   ],
   "source": [
    "# The basic syntax for a for-like loop is\n",
    "for i in range(5):\n",
    "    print(i)"
   ]
  },
  {
   "cell_type": "markdown",
   "metadata": {},
   "source": [
    "To understand the loop, you have to understand the range() function. range() technically returns a \"generator\" in Python3, but for purposes of understanding, we are going to pretend that it returns a list (like it did in previous versions of Python). So we need to understand a list first."
   ]
  },
  {
   "cell_type": "code",
   "execution_count": 35,
   "metadata": {
    "ExecuteTime": {
     "end_time": "2019-03-05T21:57:23.182503Z",
     "start_time": "2019-03-05T21:57:23.179472Z"
    }
   },
   "outputs": [
    {
     "name": "stdout",
     "output_type": "stream",
     "text": [
      "[1, 2, 3, 'apples', 'oranges', 6]\n"
     ]
    }
   ],
   "source": [
    "my_list = [1, 2, 3, \"apples\", \"oranges\", 6]\n",
    "print(my_list)"
   ]
  },
  {
   "cell_type": "markdown",
   "metadata": {},
   "source": [
    "Lists can be indexed easily using brackets [ ], or what they call \"slice\" notation."
   ]
  },
  {
   "cell_type": "code",
   "execution_count": 37,
   "metadata": {
    "ExecuteTime": {
     "end_time": "2019-03-05T21:59:10.863218Z",
     "start_time": "2019-03-05T21:59:10.860619Z"
    }
   },
   "outputs": [
    {
     "name": "stdout",
     "output_type": "stream",
     "text": [
      "1\n"
     ]
    }
   ],
   "source": [
    "print(my_list[0])  # prints the first element. Remember, zero-indexed because we're fucking CS people."
   ]
  },
  {
   "cell_type": "code",
   "execution_count": 34,
   "metadata": {
    "ExecuteTime": {
     "end_time": "2019-03-05T21:56:08.510984Z",
     "start_time": "2019-03-05T21:56:08.508134Z"
    }
   },
   "outputs": [
    {
     "name": "stdout",
     "output_type": "stream",
     "text": [
      "[0, 1, 2, 3, 4]\n"
     ]
    }
   ],
   "source": [
    "my_list = list(range(5))\n",
    "print(my_list)"
   ]
  }
 ],
 "metadata": {
  "kernelspec": {
   "display_name": "Python 3",
   "language": "python",
   "name": "python3"
  },
  "language_info": {
   "codemirror_mode": {
    "name": "ipython",
    "version": 3
   },
   "file_extension": ".py",
   "mimetype": "text/x-python",
   "name": "python",
   "nbconvert_exporter": "python",
   "pygments_lexer": "ipython3",
   "version": "3.7.1"
  },
  "varInspector": {
   "cols": {
    "lenName": 16,
    "lenType": 16,
    "lenVar": 40
   },
   "kernels_config": {
    "python": {
     "delete_cmd_postfix": "",
     "delete_cmd_prefix": "del ",
     "library": "var_list.py",
     "varRefreshCmd": "print(var_dic_list())"
    },
    "r": {
     "delete_cmd_postfix": ") ",
     "delete_cmd_prefix": "rm(",
     "library": "var_list.r",
     "varRefreshCmd": "cat(var_dic_list()) "
    }
   },
   "types_to_exclude": [
    "module",
    "function",
    "builtin_function_or_method",
    "instance",
    "_Feature"
   ],
   "window_display": false
  }
 },
 "nbformat": 4,
 "nbformat_minor": 2
}
