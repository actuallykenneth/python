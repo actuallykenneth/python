{
 "cells": [
  {
   "cell_type": "markdown",
   "metadata": {},
   "source": [
    "# Overview of Python\n",
    "![python logo](https://cdn.instructables.com/FRN/GME6/IXQFY5HZ/FRNGME6IXQFY5HZ.LARGE.jpg)"
   ]
  },
  {
   "cell_type": "markdown",
   "metadata": {},
   "source": [
    "# Python is easy af."
   ]
  },
  {
   "cell_type": "markdown",
   "metadata": {},
   "source": [
    "## The Three Pillars of Programming\n",
    "1. IO - Input and Output\n",
    "2. Iteration - Loops\n",
    "3. Control Structures - If statements"
   ]
  },
  {
   "cell_type": "markdown",
   "metadata": {},
   "source": [
    "# 1. IO\n",
    "## Output is easy af."
   ]
  },
  {
   "cell_type": "code",
   "execution_count": 4,
   "metadata": {
    "ExecuteTime": {
     "end_time": "2019-03-05T21:35:08.631262Z",
     "start_time": "2019-03-05T21:35:08.628796Z"
    }
   },
   "outputs": [
    {
     "name": "stdout",
     "output_type": "stream",
     "text": [
      "Hello world!\n",
      "\"test\"\n",
      "\n"
     ]
    }
   ],
   "source": [
    "print(\"Hello world!\")\n",
    "print(\"ts\")\n",
    "print()"
   ]
  },
  {
   "cell_type": "code",
   "execution_count": 23,
   "metadata": {
    "ExecuteTime": {
     "end_time": "2019-03-05T21:27:38.332682Z",
     "start_time": "2019-03-05T21:27:38.329749Z"
    }
   },
   "outputs": [
    {
     "name": "stdout",
     "output_type": "stream",
     "text": [
      "I went to the park.\n"
     ]
    }
   ],
   "source": [
    "# And the print function has a bunch of cool shit in it.\n",
    "# For example, comma separated values\n",
    "print(\"I\",\"went\",\"to\",\"the\",\"park.\")"
   ]
  },
  {
   "cell_type": "markdown",
   "metadata": {},
   "source": [
    "## Contrast that with System.out.println(\"I \" + \"went \" + \"to \" + \"the \" + \"park.\");\n"
   ]
  },
  {
   "cell_type": "code",
   "execution_count": 24,
   "metadata": {
    "ExecuteTime": {
     "end_time": "2019-03-05T21:44:49.922581Z",
     "start_time": "2019-03-05T21:44:49.919483Z"
    }
   },
   "outputs": [
    {
     "name": "stdout",
     "output_type": "stream",
     "text": [
      "I-=KRAKEN!=-went-=KRAKEN!=-to-=KRAKEN!=-the-=KRAKEN!=-park.\n"
     ]
    }
   ],
   "source": [
    "# If a delimiter argument is not specified, it defaults to inserting a space between the values as seen above.\n",
    "# But you can specify one as well. Same line as above, but instead of a space we have...the kraken.\n",
    "print(\"I\",\"went\",\"to\",\"the\",\"park.\", sep=\"-=KRAKEN!=-\")"
   ]
  },
  {
   "cell_type": "code",
   "execution_count": 25,
   "metadata": {
    "ExecuteTime": {
     "end_time": "2019-03-05T21:44:55.946477Z",
     "start_time": "2019-03-05T21:44:55.943302Z"
    }
   },
   "outputs": [
    {
     "name": "stdout",
     "output_type": "stream",
     "text": [
      "I went to the park with Abdullah\n",
      "Three plus three is 6.\n"
     ]
    }
   ],
   "source": [
    "# Variable substition is easy as pie.\n",
    "\n",
    "fav_person = \"Abdullah\"  # just assign a string to a variable\n",
    "print(f\"I went to the park with {fav_person}\")  # Note the \"f\" before the string.\n",
    "print(f\"Three plus three is {3+3}.\")  # You can even insert code to calculate within the brackets"
   ]
  },
  {
   "cell_type": "markdown",
   "metadata": {},
   "source": [
    "## Input is also easy af."
   ]
  },
  {
   "cell_type": "code",
   "execution_count": 5,
   "metadata": {
    "ExecuteTime": {
     "end_time": "2019-03-05T21:43:55.006928Z",
     "start_time": "2019-03-05T21:43:52.030726Z"
    }
   },
   "outputs": [
    {
     "name": "stdout",
     "output_type": "stream",
     "text": [
      "Who is your favorite person? --> Megatron\n",
      "Your favorite person is Megatron\n"
     ]
    }
   ],
   "source": [
    "fav_person = input(\"Who is your favorite person? --> \")\n",
    "print(\"Your favorite person is\", fav_person)"
   ]
  },
  {
   "cell_type": "markdown",
   "metadata": {},
   "source": [
    "# 2. Iteration"
   ]
  },
  {
   "cell_type": "markdown",
   "metadata": {},
   "source": [
    "## Iteration is...easy af.\n",
    "The strangest thing is that there are no typical for loops of the for(i=0; i < c; i++) style in python.\n",
    "If you're using other languages to reckon the loops in python by, the closest analog would be\n",
    "the \"for each\" loop or \"enhanced for\" loop"
   ]
  },
  {
   "cell_type": "code",
   "execution_count": 27,
   "metadata": {
    "ExecuteTime": {
     "end_time": "2019-03-05T21:51:46.747959Z",
     "start_time": "2019-03-05T21:51:46.744989Z"
    }
   },
   "outputs": [
    {
     "name": "stdout",
     "output_type": "stream",
     "text": [
      "0\n",
      "1\n",
      "2\n",
      "3\n",
      "4\n"
     ]
    }
   ],
   "source": [
    "# The basic syntax for a for-like loop is\n",
    "for i in range(5):\n",
    "    print(i)"
   ]
  },
  {
   "cell_type": "markdown",
   "metadata": {},
   "source": [
    "To understand the loop, you have to understand the range() function. range() technically returns a \"generator\" in Python3, but for purposes of understanding, we are going \n",
    "to pretend that it returns a list (like it did in previous versions of Python). So we need to understand a list first."
   ]
  },
  {
   "cell_type": "code",
   "execution_count": 28,
   "metadata": {
    "ExecuteTime": {
     "end_time": "2019-03-05T22:08:22.756299Z",
     "start_time": "2019-03-05T22:08:22.750306Z"
    }
   },
   "outputs": [
    {
     "name": "stdout",
     "output_type": "stream",
     "text": [
      "[1, 2, 3, 'apples', 'oranges', 6]\n"
     ]
    }
   ],
   "source": [
    "my_list = [1, 2, 3, \"apples\", \"oranges\", 6]\n",
    "print(my_list)"
   ]
  },
  {
   "cell_type": "markdown",
   "metadata": {},
   "source": [
    "Lists can be indexed easily using brackets [ ], or what they call \"slice\" notation."
   ]
  },
  {
   "cell_type": "code",
   "execution_count": 29,
   "metadata": {
    "ExecuteTime": {
     "end_time": "2019-03-05T22:09:55.418699Z",
     "start_time": "2019-03-05T22:09:55.411985Z"
    }
   },
   "outputs": [
    {
     "name": "stdout",
     "output_type": "stream",
     "text": [
      "1\n"
     ]
    }
   ],
   "source": [
    "print(my_list[0])  # prints the first element. Remember, zero-indexed because we're fucking CS people."
   ]
  },
  {
   "cell_type": "code",
   "execution_count": 30,
   "metadata": {
    "ExecuteTime": {
     "end_time": "2019-03-05T22:12:04.881410Z",
     "start_time": "2019-03-05T22:12:04.877516Z"
    }
   },
   "outputs": [
    {
     "name": "stdout",
     "output_type": "stream",
     "text": [
      "[1, 2]\n"
     ]
    }
   ],
   "source": [
    "# You can do slices too.\n",
    "print(my_list[0:2])"
   ]
  },
  {
   "cell_type": "markdown",
   "metadata": {},
   "source": [
    "The slice notation returns another list consisting of all elements from start value (inclusive) to end\n",
    "value (not inclusive). If you were a wretched math person, you might describe it as [start, end) in interval\n",
    "notation. Now let's return to the loops."
   ]
  },
  {
   "cell_type": "code",
   "execution_count": 31,
   "metadata": {
    "ExecuteTime": {
     "end_time": "2019-03-05T22:22:34.902941Z",
     "start_time": "2019-03-05T22:22:34.898500Z"
    }
   },
   "outputs": [
    {
     "name": "stdout",
     "output_type": "stream",
     "text": [
      "1 is an item in my list\n",
      "2 is an item in my list\n",
      "3 is an item in my list\n",
      "apples is an item in my list\n",
      "oranges is an item in my list\n",
      "6 is an item in my list\n"
     ]
    }
   ],
   "source": [
    "# Iterate through our list\n",
    "for item in my_list:\n",
    "    print(item, \"is an item in my list\")"
   ]
  },
  {
   "cell_type": "markdown",
   "metadata": {},
   "source": [
    "So what is the relevance of this to range()? Think of range() as doing nothing but creating a list of integers."
   ]
  },
  {
   "cell_type": "code",
   "execution_count": 10,
   "metadata": {
    "ExecuteTime": {
     "end_time": "2019-03-05T22:25:42.932355Z",
     "start_time": "2019-03-05T22:25:42.928695Z"
    }
   },
   "outputs": [
    {
     "name": "stdout",
     "output_type": "stream",
     "text": [
      "[0, 1, 2, 3, 4]\n"
     ]
    }
   ],
   "source": [
    "some_list = list(range(5))\n",
    "print(some_list)"
   ]
  },
  {
   "cell_type": "markdown",
   "metadata": {},
   "source": [
    "The for loop then just iterates through that list."
   ]
  },
  {
   "cell_type": "code",
   "execution_count": 12,
   "metadata": {
    "ExecuteTime": {
     "end_time": "2019-03-05T22:27:11.166889Z",
     "start_time": "2019-03-05T22:27:11.161689Z"
    }
   },
   "outputs": [
    {
     "name": "stdout",
     "output_type": "stream",
     "text": [
      "0\n",
      "1\n",
      "2\n",
      "3\n",
      "4\n",
      "round two!\n",
      "0\n",
      "this is nested\n",
      "this is nested\n",
      "this is nested\n",
      "1\n",
      "this is nested\n",
      "this is nested\n",
      "this is nested\n",
      "2\n",
      "this is nested\n",
      "this is nested\n",
      "this is nested\n",
      "3\n",
      "this is nested\n",
      "this is nested\n",
      "this is nested\n",
      "4\n",
      "this is nested\n",
      "this is nested\n",
      "this is nested\n"
     ]
    }
   ],
   "source": [
    "# this loop\n",
    "for i in range(5):\n",
    "    print(i)\n",
    "\n",
    "print('round two!')\n",
    "\n",
    "# is the same as this loop:\n",
    "for i in some_list:\n",
    "    print(i)\n",
    "    for j in range(3):\n",
    "        print('this is nested')"
   ]
  },
  {
   "cell_type": "markdown",
   "metadata": {},
   "source": [
    "# 3. Control Structures\n",
    "## Control structures are, predictably, easy af."
   ]
  },
  {
   "cell_type": "code",
   "execution_count": 6,
   "metadata": {
    "ExecuteTime": {
     "end_time": "2019-03-05T22:42:16.169135Z",
     "start_time": "2019-03-05T22:42:13.560396Z"
    }
   },
   "outputs": [
    {
     "name": "stdout",
     "output_type": "stream",
     "text": [
      "Who is your favorite GoT character? --> Tyrion\n",
      "heart emoji\n"
     ]
    }
   ],
   "source": [
    "# Get the input from the user\n",
    "fav_got_char = input(\"Who is your favorite GoT character? --> \")\n",
    "\n",
    "# Make decisions based on input\n",
    "if fav_got_char == \"Tyrion\":\n",
    "    print(\"heart emoji\")\n",
    "elif fav_got_char == \"Jon Snow\":\n",
    "    print(\"eggplant emoji, tongue emoji\")\n",
    "else:\n",
    "    print(\"total fail.\")"
   ]
  },
  {
   "cell_type": "markdown",
   "metadata": {},
   "source": [
    "## Functions are easy af."
   ]
  },
  {
   "cell_type": "code",
   "execution_count": 13,
   "metadata": {},
   "outputs": [
    {
     "name": "stdout",
     "output_type": "stream",
     "text": [
      "24\n"
     ]
    }
   ],
   "source": [
    "def add_two_numbers(num1, num2):\n",
    "    '''This is a simple function that adds two numbers.'''\n",
    "    return num1 + num2\n",
    "\n",
    "print(add_two_numbers(4,20))"
   ]
  },
  {
   "cell_type": "code",
   "execution_count": 14,
   "metadata": {},
   "outputs": [
    {
     "data": {
      "text/plain": [
       "'hellokitty'"
      ]
     },
     "execution_count": 14,
     "metadata": {},
     "output_type": "execute_result"
    }
   ],
   "source": [
    "add_two_numbers('hello', 'kitty')"
   ]
  },
  {
   "cell_type": "code",
   "execution_count": 23,
   "metadata": {},
   "outputs": [
    {
     "name": "stdout",
     "output_type": "stream",
     "text": [
      "give me a number3\n",
      "give me a number5\n",
      "the sum is 8\n"
     ]
    }
   ],
   "source": [
    "num1 = int(input('give me a number'))\n",
    "num2 = int(input('give me a number'))\n",
    "print('the sum is', num1+num2)\n"
   ]
  },
  {
   "cell_type": "code",
   "execution_count": 22,
   "metadata": {},
   "outputs": [
    {
     "data": {
      "text/plain": [
       "str"
      ]
     },
     "execution_count": 22,
     "metadata": {},
     "output_type": "execute_result"
    }
   ],
   "source": [
    "type(num1)"
   ]
  },
  {
   "cell_type": "code",
   "execution_count": 18,
   "metadata": {},
   "outputs": [
    {
     "name": "stdout",
     "output_type": "stream",
     "text": [
      "3\n"
     ]
    }
   ],
   "source": [
    "print(3)"
   ]
  },
  {
   "cell_type": "code",
   "execution_count": 38,
   "metadata": {},
   "outputs": [
    {
     "name": "stdout",
     "output_type": "stream",
     "text": [
      "helloasdfasdfasdfasdfasdfasdfdas\n"
     ]
    }
   ],
   "source": [
    "print('helloasdfasdfasdfasdfasdfasdfdas')"
   ]
  },
  {
   "cell_type": "code",
   "execution_count": 39,
   "metadata": {},
   "outputs": [
    {
     "name": "stdout",
     "output_type": "stream",
     "text": [
      "12\n"
     ]
    }
   ],
   "source": [
    "def f(x):\n",
    "    return x + 2\n",
    "print(f(10))"
   ]
  },
  {
   "cell_type": "code",
   "execution_count": null,
   "metadata": {},
   "outputs": [],
   "source": []
  }
 ],
 "metadata": {
  "kernelspec": {
   "display_name": "Python 3",
   "language": "python",
   "name": "python3"
  },
  "language_info": {
   "codemirror_mode": {
    "name": "ipython",
    "version": 3
   },
   "file_extension": ".py",
   "mimetype": "text/x-python",
   "name": "python",
   "nbconvert_exporter": "python",
   "pygments_lexer": "ipython3",
   "version": "3.7.1"
  },
  "latex_envs": {
   "LaTeX_envs_menu_present": true,
   "autoclose": false,
   "autocomplete": true,
   "bibliofile": "biblio.bib",
   "cite_by": "apalike",
   "current_citInitial": 1,
   "eqLabelWithNumbers": false,
   "eqNumInitial": 1,
   "hotkeys": {
    "equation": "Ctrl-E",
    "itemize": "Ctrl-I"
   },
   "labels_anchors": false,
   "latex_user_defs": false,
   "report_style_numbering": false,
   "user_envs_cfg": false
  },
  "nbTranslate": {
   "displayLangs": [
    "*"
   ],
   "hotkey": "alt-t",
   "langInMainMenu": true,
   "sourceLang": "en",
   "targetLang": "fr",
   "useGoogleTranslate": true
  },
  "varInspector": {
   "cols": {
    "lenName": 16,
    "lenType": 16,
    "lenVar": 40
   },
   "kernels_config": {
    "python": {
     "delete_cmd_postfix": "",
     "delete_cmd_prefix": "del ",
     "library": "var_list.py",
     "varRefreshCmd": "print(var_dic_list())"
    },
    "r": {
     "delete_cmd_postfix": ") ",
     "delete_cmd_prefix": "rm(",
     "library": "var_list.r",
     "varRefreshCmd": "cat(var_dic_list()) "
    }
   },
   "types_to_exclude": [
    "module",
    "function",
    "builtin_function_or_method",
    "instance",
    "_Feature"
   ],
   "window_display": false
  }
 },
 "nbformat": 4,
 "nbformat_minor": 2
}
